{
 "cells": [
  {
   "cell_type": "code",
   "execution_count": 22,
   "metadata": {},
   "outputs": [
    {
     "name": "stdout",
     "output_type": "stream",
     "text": [
      "The autoreload extension is already loaded. To reload it, use:\n",
      "  %reload_ext autoreload\n"
     ]
    }
   ],
   "source": [
    "%load_ext autoreload\n",
    "%autoreload 2"
   ]
  },
  {
   "cell_type": "code",
   "execution_count": 131,
   "metadata": {},
   "outputs": [],
   "source": [
    "from script import load_images_to_tensors, load_csv_to_tensors, calculate_TC_in_CA, Annotation, calculate_areas_scalar, transform_points, points_to_pixels\n",
    "import torch\n",
    "import json\n",
    "from PIL import Image\n",
    "import math"
   ]
  },
  {
   "cell_type": "code",
   "execution_count": 31,
   "metadata": {},
   "outputs": [],
   "source": [
    "# Usage example:\n",
    "image_folder_train = \"./ocelot2023_v1.0.1/annotations/train/tissue\"\n",
    "image_folder_test = \"./ocelot2023_v1.0.1/annotations/test/tissue\"\n",
    "image_folder_val = \"./ocelot2023_v1.0.1/annotations/val/tissue\"\n",
    "tissue_tensors = load_images_to_tensors(image_folder_train)\n",
    "tissue_tensors += load_images_to_tensors(image_folder_test)\n",
    "tissue_tensors += load_images_to_tensors(image_folder_val)\n",
    "\n",
    "directory_path_train = \"ocelot2023_v1.0.1/annotations/train/cell\"\n",
    "directory_path_test = \"ocelot2023_v1.0.1/annotations/test/cell\"\n",
    "directory_path_val = \"ocelot2023_v1.0.1/annotations/val/cell\"\n",
    "\n",
    "cell_tensors = load_csv_to_tensors(directory_path_train)\n",
    "cell_tensors += load_csv_to_tensors(directory_path_test)\n",
    "cell_tensors += load_csv_to_tensors(directory_path_val)"
   ]
  },
  {
   "cell_type": "markdown",
   "metadata": {},
   "source": [
    "## Visualizatoin of image tissue 288"
   ]
  },
  {
   "cell_type": "code",
   "execution_count": 142,
   "metadata": {},
   "outputs": [],
   "source": [
    "cell_area, tissue_area, scalar = calculate_areas_scalar(\"288\")"
   ]
  },
  {
   "cell_type": "code",
   "execution_count": 155,
   "metadata": {},
   "outputs": [
    {
     "name": "stdout",
     "output_type": "stream",
     "text": [
      "tensor([741, 526])\n",
      "tensor([697, 643], dtype=torch.int32)\n"
     ]
    }
   ],
   "source": [
    "cell_points = cell_tensors[287]\n",
    "tissue = tissue_tensors[287]\n",
    "cell_annotation = cell_points[:, 2]\n",
    "cell_points = cell_points[:, :2]\n",
    "\n",
    "print(cell_points[0, :])\n",
    "cell_points = points_to_pixels(cell_points, cell_area, tissue_area, scalar)\n",
    "cell_points = cell_points.to(dtype=torch.int)\n",
    "print(cell_points[0, :])"
   ]
  },
  {
   "cell_type": "code",
   "execution_count": 144,
   "metadata": {},
   "outputs": [
    {
     "name": "stdout",
     "output_type": "stream",
     "text": [
      "torch.Size([1, 1024, 1024])\n",
      "torch.Size([3, 1024, 1024])\n"
     ]
    }
   ],
   "source": [
    "print(tissue.size())\n",
    "tissue_rgb = tissue.repeat(3, 1, 1)\n",
    "print(tissue_rgb.size())"
   ]
  },
  {
   "cell_type": "code",
   "execution_count": 152,
   "metadata": {},
   "outputs": [],
   "source": [
    "def draw_circle(tensor, center, radius, color):\n",
    "    cx, cy = center\n",
    "\n",
    "    for y in range(cy - radius, cy+radius):\n",
    "        for x in range(cx-radius, cx+radius):\n",
    "            distance = math.sqrt((x - cx)**2 + (y - cy)**2)\n",
    "            if distance <= radius:\n",
    "                tensor[:, y, x] = torch.tensor(color, dtype=torch.uint8)\n",
    "\n",
    "\n",
    "# Drawing red circles around the points\n",
    "radius = 3  # Radius of the circle\n",
    "color_blue = [0, 0, 255]  # Blue color\n",
    "color_yellow = [255, 255, 0]  # Yellow color\n",
    "for point, annotation in zip(cell_points, cell_annotation):\n",
    "    if annotation == 2:\n",
    "        draw_circle(tissue_rgb, point, radius, color_blue)\n",
    "    else:\n",
    "        draw_circle(tissue_rgb, point, radius, color_yellow)"
   ]
  },
  {
   "cell_type": "code",
   "execution_count": 157,
   "metadata": {},
   "outputs": [],
   "source": [
    "img = Image.fromarray(tissue_rgb.permute(1, 2, 0).numpy(), mode=\"RGB\")\n",
    "img.show() "
   ]
  },
  {
   "cell_type": "markdown",
   "metadata": {},
   "source": [
    "## Calculate tumor cells in cancer area"
   ]
  },
  {
   "cell_type": "code",
   "execution_count": 165,
   "metadata": {},
   "outputs": [],
   "source": [
    "table = calculate_TC_in_CA(cell_tensors, tissue_tensors)"
   ]
  },
  {
   "cell_type": "code",
   "execution_count": 166,
   "metadata": {},
   "outputs": [
    {
     "name": "stdout",
     "output_type": "stream",
     "text": [
      "torch.Size([1, 1024, 1024])\n",
      "{'TC_CA': 57976, 'TC_non_CA': 11650, 'BC_non_CA': 32113, 'C1_UNK': 1507, 'C2_UNK': 2065, 'BC_CA': 7715, 'Cneg1_1': 5, 'Cneg1_UNK': 1, 'Cneg1_2': 1}\n",
      "Count of cells with annotation 2 and point value 2: 0.8825562101353306\n",
      "113033\n"
     ]
    }
   ],
   "source": [
    "print(tissue_tensors[0].size())\n",
    "\n",
    "print(table)\n",
    "print(\n",
    "    f\"Count of cells with annotation 2 and point value 2: {table.get(Annotation((2, 2)).name)/(table.get(Annotation((1, 2)).name) + table.get(Annotation((2, 2)).name))}\"\n",
    ")\n",
    "\n",
    "print(sum(table.values()))"
   ]
  }
 ],
 "metadata": {
  "kernelspec": {
   "display_name": "myenv",
   "language": "python",
   "name": "python3"
  },
  "language_info": {
   "codemirror_mode": {
    "name": "ipython",
    "version": 3
   },
   "file_extension": ".py",
   "mimetype": "text/x-python",
   "name": "python",
   "nbconvert_exporter": "python",
   "pygments_lexer": "ipython3",
   "version": "3.9.1"
  }
 },
 "nbformat": 4,
 "nbformat_minor": 2
}
