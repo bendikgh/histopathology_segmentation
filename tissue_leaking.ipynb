{
 "cells": [
  {
   "cell_type": "code",
   "execution_count": 1,
   "metadata": {},
   "outputs": [
    {
     "name": "stdout",
     "output_type": "stream",
     "text": [
      "device: cpu\n"
     ]
    }
   ],
   "source": [
    "import os\n",
    "import torch\n",
    "import numpy as np\n",
    "\n",
    "from monai.data import ArrayDataset, DataLoader, MetaTensor\n",
    "from monai.losses import DiceLoss\n",
    "from torch.optim import Adam\n",
    "from utils import (\n",
    "    read_data, \n",
    "    get_metadata,\n",
    "    get_cell_annotations_in_tissue_coordinates,\n",
    "    crop_and_upscale_tissue,\n",
    "    get_image_tensor_from_path\n",
    ")\n",
    "\n",
    "from deeplabv3.network.modeling import _segm_resnet\n",
    "\n",
    "device = torch.device(\"cuda\" if torch.cuda.is_available() else \"cpu\")\n",
    "print(f\"device: {device}\")"
   ]
  },
  {
   "cell_type": "code",
   "execution_count": null,
   "metadata": {},
   "outputs": [],
   "source": [
    "model = _segm_resnet(\n",
    "    name=\"deeplabv3plus\",\n",
    "    backbone_name=\"resnet50\",\n",
    "    num_classes=3,\n",
    "    output_stride=8,\n",
    "    pretrained_backbone=True,\n",
    ")\n",
    "model.to(device)"
   ]
  },
  {
   "cell_type": "code",
   "execution_count": null,
   "metadata": {},
   "outputs": [],
   "source": [
    "class OcelotCellDataset(ArrayDataset):\n",
    "\n",
    "    @classmethod\n",
    "    def decode_target(cls, target):\n",
    "        return target.argmax(1)\n",
    "  \n",
    "    def __init__(self, cell_tensors, cell_annotations, device=None):\n",
    "        super().__init__(img=cell_tensors, seg=cell_annotations)\n",
    "        self.device = device\n",
    "        self.processed_images, self.processed_labels = self.process_data()\n",
    "\n",
    "    def process_data(self):\n",
    "        processed_images = []\n",
    "        processed_labels = []\n",
    "        for index in range(len(self)):\n",
    "            image, label = super().__getitem__(index)\n",
    "            label[np.logical_or(label == 1, label == 255)] = 0\n",
    "            label[label == 2] = 1\n",
    "            processed_images.append(torch.tensor(image).permute((2, 0, 1)))\n",
    "            processed_labels.append(torch.tensor(label))\n",
    "        return torch.stack(processed_images).to(self.device), torch.stack(processed_labels).to(self.device)\n",
    "    \n",
    "    def __getitem__(self, index):\n",
    "        return self.processed_images[index], self.processed_labels[index]\n",
    "\n",
    "    def __len__(self):\n",
    "        return super().__len__()\n"
   ]
  },
  {
   "cell_type": "code",
   "execution_count": null,
   "metadata": {},
   "outputs": [],
   "source": [
    "folder_path = \"ocelot_data/\"\n",
    "metadata = get_metadata(folder_path)\n",
    "data = read_data(folder_path)"
   ]
  },
  {
   "cell_type": "code",
   "execution_count": null,
   "metadata": {},
   "outputs": [],
   "source": [
    "segmented_cell_folder = \"ocelot_data/annotations/train/segmented_cell/\"\n",
    "cell_annotations = []\n",
    "for f_name in sorted(list(data.keys())):\n",
    "    image_path = os.path.join(segmented_cell_folder, f\"{f_name}.png\")\n",
    "    cell_annotation = get_image_tensor_from_path(image_path)\n",
    "    cell_annotations.append(cell_annotation)\n",
    "\n",
    "cell_annotations_tensor = torch.stack(cell_annotations)"
   ]
  },
  {
   "cell_type": "code",
   "execution_count": null,
   "metadata": {},
   "outputs": [],
   "source": [
    "cell_channels_with_tissue_annotations = []\n",
    "image_size = 1024\n",
    "\n",
    "for id in sorted(list(data.keys())):\n",
    "    data_object = data[id]\n",
    "    offset_tensor = torch.tensor([data_object[\"x_offset\"], data_object[\"y_offset\"]]) * image_size\n",
    "    scaling_value = data_object[\"cell_mpp\"] / data_object[\"tissue_mpp\"]\n",
    "    tissue_tensor = data_object[\"tissue_annotated\"]\n",
    "    cell_tensor = data_object[\"cell_image\"]\n",
    "\n",
    "    cropped_scaled = crop_and_upscale_tissue(tissue_tensor, offset_tensor, scaling_value)\n",
    "    cell_tensor_tissue_annotation = torch.cat([cell_tensor, cropped_scaled], 0)\n",
    "    \n",
    "    cell_channels_with_tissue_annotations.append(cell_tensor_tissue_annotation)\n",
    "\n",
    "tissue_crops_scaled_tensor = torch.stack(cell_channels_with_tissue_annotations)"
   ]
  },
  {
   "cell_type": "code",
   "execution_count": null,
   "metadata": {},
   "outputs": [],
   "source": [
    "dataset = OcelotCellDataset(cell_tensors=tissue_crops_scaled_tensor, cell_annotations=cell_annotations_tensor, device=device)\n",
    "\n",
    "data_loader = DataLoader(dataset=dataset, batch_size=2)\n",
    "\n",
    "loss_function = DiceLoss(\n",
    "  # softmax=True\n",
    "  )\n",
    "optimizer = Adam(model.parameters(), lr=1e-3)"
   ]
  },
  {
   "cell_type": "code",
   "execution_count": null,
   "metadata": {},
   "outputs": [],
   "source": [
    "import time\n",
    "num_epochs = 1\n",
    "decode_fn = data_loader.dataset.decode_target\n",
    "\n",
    "for epoch in range(num_epochs):\n",
    "    model.train()\n",
    "    epoch_loss = 0\n",
    "    start = time.time()\n",
    "\n",
    "    for (inputs, labels) in data_loader:\n",
    "        optimizer.zero_grad()\n",
    "        outputs = model(inputs)\n",
    "        outputs = decode_fn(outputs).to(torch.float32)\n",
    "        outputs.requires_grad = True\n",
    "\n",
    "        loss = loss_function(outputs, labels)\n",
    "        loss.backward()\n",
    "        optimizer.step()\n",
    "        epoch_loss += loss.item()\n",
    "        print(f\"One iteration\")\n",
    "    \n",
    "    end = time.time()\n",
    "    epoch_loss /= len(data_loader)\n",
    "    print(f\"Epoch {epoch + 1}, Loss: {epoch_loss}, epoch_time: {end-start:.2f} seconds\")"
   ]
  }
 ],
 "metadata": {
  "kernelspec": {
   "display_name": "my_env",
   "language": "python",
   "name": "python3"
  },
  "language_info": {
   "codemirror_mode": {
    "name": "ipython",
    "version": 3
   },
   "file_extension": ".py",
   "mimetype": "text/x-python",
   "name": "python",
   "nbconvert_exporter": "python",
   "pygments_lexer": "ipython3",
   "version": "3.9.1"
  }
 },
 "nbformat": 4,
 "nbformat_minor": 2
}
