{
 "cells": [
  {
   "cell_type": "code",
   "execution_count": 1,
   "metadata": {},
   "outputs": [
    {
     "name": "stdout",
     "output_type": "stream",
     "text": [
      "device: cpu\n"
     ]
    }
   ],
   "source": [
    "import os\n",
    "import torch\n",
    "\n",
    "from monai.data import ImageDataset, DataLoader, MetaTensor\n",
    "from monai.losses import DiceLoss\n",
    "from torch.optim import Adam\n",
    "\n",
    "from deeplabv3.network.modeling import _segm_resnet\n",
    "\n",
    "device = torch.device(\"cuda\" if torch.cuda.is_available() else \"cpu\")\n",
    "print(f\"device: {device}\")"
   ]
  },
  {
   "cell_type": "code",
   "execution_count": 2,
   "metadata": {},
   "outputs": [],
   "source": [
    "model = _segm_resnet(\n",
    "    name=\"deeplabv3plus\",\n",
    "    backbone_name=\"resnet50\",\n",
    "    num_classes=2,\n",
    "    output_stride=8,\n",
    "    pretrained_backbone=True,\n",
    ")"
   ]
  },
  {
   "cell_type": "code",
   "execution_count": 3,
   "metadata": {},
   "outputs": [],
   "source": [
    "# Creating the dataset class\n",
    "class OcelotDataset(ImageDataset): \n",
    "\n",
    "  @classmethod\n",
    "  def decode_target(cls, mask): \n",
    "    return cls.cmap[mask]"
   ]
  },
  {
   "cell_type": "code",
   "execution_count": 4,
   "metadata": {},
   "outputs": [],
   "source": [
    "image_file_path = \"ocelot_data/images/train/tissue/\"\n",
    "segmentation_file_path = \"ocelot_data/annotations/train/tissue/\"\n",
    "\n",
    "\n",
    "image_files = [\n",
    "    os.path.join(image_file_path, file_name)\n",
    "    for file_name in os.listdir(image_file_path)\n",
    "]\n",
    "image_files.sort()\n",
    "\n",
    "segmentation_files = [\n",
    "    os.path.join(segmentation_file_path, file_name)\n",
    "    for file_name in os.listdir(segmentation_file_path)\n",
    "]\n",
    "segmentation_files.sort()"
   ]
  },
  {
   "cell_type": "code",
   "execution_count": 5,
   "metadata": {},
   "outputs": [],
   "source": [
    "dataset = OcelotDataset(image_files=image_files, seg_files=segmentation_files)\n",
    "data_loader = DataLoader(dataset=dataset, batch_size=2)\n",
    "\n",
    "loss_function = DiceLoss(softmax=True)\n",
    "optimizer = Adam(model.parameters(), lr=1e-3)"
   ]
  },
  {
   "cell_type": "code",
   "execution_count": 7,
   "metadata": {},
   "outputs": [],
   "source": [
    "num_epochs = 1\n",
    "\n",
    "for epoch in range(num_epochs):\n",
    "    model.train()\n",
    "    epoch_loss = 0\n",
    "\n",
    "    for (inputs, labels) in data_loader:\n",
    "        # Transposing the inputs to fit the expected shape\n",
    "        inputs_tensor = torch.Tensor(inputs)\n",
    "        inputs_tensor = inputs_tensor.permute((0, 3, 1, 2))\n",
    "        inputs = MetaTensor(inputs_tensor, meta=inputs.meta)\n",
    "\n",
    "        # Continuing with the regular training loop\n",
    "        inputs, labels = inputs.to(device), labels.to(device)\n",
    "\n",
    "        optimizer.zero_grad()\n",
    "        outputs = model(inputs)\n",
    "        loss = loss_function(outputs, labels)\n",
    "        loss.backward()\n",
    "        optimizer.step()\n",
    "        epoch_loss += loss.item()\n",
    "      \n",
    "    epoch_loss /= len(data_loader)\n",
    "    print(f\"Epoch {epoch + 1}, Loss: {epoch_loss}\")"
   ]
  }
 ],
 "metadata": {
  "kernelspec": {
   "display_name": "specialization_project",
   "language": "python",
   "name": "python3"
  },
  "language_info": {
   "codemirror_mode": {
    "name": "ipython",
    "version": 3
   },
   "file_extension": ".py",
   "mimetype": "text/x-python",
   "name": "python",
   "nbconvert_exporter": "python",
   "pygments_lexer": "ipython3",
   "version": "3.9.18"
  }
 },
 "nbformat": 4,
 "nbformat_minor": 2
}
