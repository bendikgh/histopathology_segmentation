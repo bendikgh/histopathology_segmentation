{
 "cells": [
  {
   "cell_type": "code",
   "execution_count": 1,
   "metadata": {},
   "outputs": [
    {
     "name": "stdout",
     "output_type": "stream",
     "text": [
      "device: cpu\n"
     ]
    }
   ],
   "source": [
    "import os\n",
    "import torch\n",
    "import numpy as np\n",
    "\n",
    "from monai.data import ImageDataset, DataLoader, MetaTensor\n",
    "from monai.losses import DiceLoss\n",
    "from torch.optim import Adam\n",
    "\n",
    "from deeplabv3.network.modeling import _segm_resnet\n",
    "\n",
    "device = torch.device(\"cuda\" if torch.cuda.is_available() else \"cpu\")\n",
    "print(f\"device: {device}\")"
   ]
  },
  {
   "cell_type": "code",
   "execution_count": 2,
   "metadata": {},
   "outputs": [],
   "source": [
    "model = _segm_resnet(\n",
    "    name=\"deeplabv3plus\",\n",
    "    backbone_name=\"resnet50\",\n",
    "    num_classes=2,\n",
    "    output_stride=8,\n",
    "    pretrained_backbone=True,\n",
    ")"
   ]
  },
  {
   "cell_type": "code",
   "execution_count": 8,
   "metadata": {},
   "outputs": [],
   "source": [
    "# Creating the dataset class\n",
    "class OcelotDataset(ImageDataset): \n",
    "\n",
    "  @classmethod\n",
    "  def decode_target(cls, target): \n",
    "    return target.argmax(1)\n",
    "  \n",
    "  def __getitem__(self, index):\n",
    "        image, label = super().__getitem__(index)\n",
    "        label[np.logical_or(label == 1, label == 255)] = 0  # Set pixels with label 255 to 1\n",
    "        label[label == 2] = 1  # Set pixels with label 255 to 1\n",
    "        return image, label\n"
   ]
  },
  {
   "cell_type": "code",
   "execution_count": 4,
   "metadata": {},
   "outputs": [],
   "source": [
    "image_file_path = \"ocelot_data/images/train/tissue/\"\n",
    "segmentation_file_path = \"ocelot_data/annotations/train/tissue/\"\n",
    "\n",
    "\n",
    "image_files = [\n",
    "    os.path.join(image_file_path, file_name)\n",
    "    for file_name in os.listdir(image_file_path)\n",
    "]\n",
    "image_files.sort()\n",
    "\n",
    "segmentation_files = [\n",
    "    os.path.join(segmentation_file_path, file_name)\n",
    "    for file_name in os.listdir(segmentation_file_path)\n",
    "]\n",
    "segmentation_files.sort()"
   ]
  },
  {
   "cell_type": "code",
   "execution_count": 9,
   "metadata": {},
   "outputs": [],
   "source": [
    "dataset = OcelotDataset(image_files=image_files, seg_files=segmentation_files)\n",
    "data_loader = DataLoader(dataset=dataset, batch_size=2)\n",
    "\n",
    "loss_function = DiceLoss(\n",
    "  # softmax=True\n",
    "  )\n",
    "optimizer = Adam(model.parameters(), lr=1e-3)"
   ]
  },
  {
   "cell_type": "code",
   "execution_count": 11,
   "metadata": {},
   "outputs": [
    {
     "name": "stdout",
     "output_type": "stream",
     "text": [
      "Loop loss: 0.38711017370224\n",
      "Loop loss: 0.3835362195968628\n",
      "Loop loss: 0.09981444478034973\n",
      "Loop loss: 0.2595614492893219\n",
      "Loop loss: 0.15403085947036743\n",
      "Loop loss: 0.2371188998222351\n",
      "Loop loss: 0.21412956714630127\n",
      "Loop loss: 0.3294314742088318\n",
      "Loop loss: 0.7303941249847412\n",
      "Loop loss: 0.38251590728759766\n",
      "Loop loss: 0.5418962240219116\n",
      "Loop loss: 0.39270728826522827\n",
      "Loop loss: 0.42368966341018677\n"
     ]
    }
   ],
   "source": [
    "num_epochs = 1\n",
    "decode_fn = data_loader.dataset.decode_target\n",
    "\n",
    "for epoch in range(num_epochs):\n",
    "    model.train()\n",
    "    epoch_loss = 0\n",
    "\n",
    "    for (inputs, labels) in data_loader:\n",
    "        # Transposing the inputs to fit the expected shape\n",
    "        inputs_tensor = torch.Tensor(inputs)\n",
    "        inputs_tensor = inputs_tensor.permute((0, 3, 1, 2))\n",
    "        inputs = MetaTensor(inputs_tensor, meta=inputs.meta)\n",
    "\n",
    "        # Continuing with the regular training loop\n",
    "        inputs, labels = inputs.to(device), labels.to(device)\n",
    "\n",
    "        optimizer.zero_grad()\n",
    "        outputs = model(inputs)\n",
    "        outputs = decode_fn(outputs).to(torch.float32)\n",
    "        outputs.requires_grad = True\n",
    "\n",
    "        loss = loss_function(outputs, labels)\n",
    "        loss.backward()\n",
    "        optimizer.step()\n",
    "        loop_loss = loss.item()\n",
    "        print(f\"Loop loss: {loop_loss}\")\n",
    "        epoch_loss += loop_loss\n",
    "      \n",
    "    epoch_loss /= len(data_loader)\n",
    "    print(f\"Epoch {epoch + 1}, Loss: {epoch_loss}\")"
   ]
  }
 ],
 "metadata": {
  "kernelspec": {
   "display_name": "specialization_project",
   "language": "python",
   "name": "python3"
  },
  "language_info": {
   "codemirror_mode": {
    "name": "ipython",
    "version": 3
   },
   "file_extension": ".py",
   "mimetype": "text/x-python",
   "name": "python",
   "nbconvert_exporter": "python",
   "pygments_lexer": "ipython3",
   "version": "3.9.18"
  }
 },
 "nbformat": 4,
 "nbformat_minor": 2
}
